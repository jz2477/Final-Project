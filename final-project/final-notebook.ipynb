{
 "cells": [
  {
   "cell_type": "code",
   "execution_count": 1,
   "metadata": {},
   "outputs": [
    {
     "name": "stderr",
     "output_type": "stream",
     "text": [
      "/anaconda3/lib/python3.6/site-packages/h5py/__init__.py:36: FutureWarning: Conversion of the second argument of issubdtype from `float` to `np.floating` is deprecated. In future, it will be treated as `np.float64 == np.dtype(float).type`.\n",
      "  from ._conv import register_converters as _register_converters\n"
     ]
    }
   ],
   "source": [
    "import numpy as np\n",
    "import pandas as pd\n",
    "from datetime import datetime\n",
    "import matplotlib.pyplot as plt\n",
    "import matplotlib.cm as cm\n",
    "import edward as ed\n",
    "from edward.models import (Dirichlet, Gamma,\n",
    "                           ParamMixture, Poisson, Empirical, Categorical)\n",
    "import tensorflow as tf\n",
    "import zipfile\n",
    "from final_utils import EM, info_crit, calc_prob"
   ]
  },
  {
   "cell_type": "markdown",
   "metadata": {},
   "source": [
    "$\\LARGE \\mathbf {Introduction}$"
   ]
  },
  {
   "cell_type": "markdown",
   "metadata": {},
   "source": [
    "The goal in appointment scheduling is to provide patients\n",
    "with efficienct and timely access to health services.\n",
    "This is hard in general because different\n",
    "patients have different needs, and with limited\n",
    "resources, we are\n",
    "unlikely to satisfy the demands of all patients.\n",
    "<br>\n",
    "Many factors affect the performance of appointment\n",
    "systems, but in this project,\n",
    "we'll focus on how far in advance people\n",
    "usually make appointments, and hopefully\n",
    "this will help improve the scheduling procedure.\n",
    "To this end, we will cycle through Box's\n",
    "loop, and focus on the inference part."
   ]
  },
  {
   "cell_type": "markdown",
   "metadata": {},
   "source": [
    "$\\LARGE \\mathbf {Data}$"
   ]
  },
  {
   "cell_type": "markdown",
   "metadata": {},
   "source": [
    "We will work with the  data that contains\n",
    "the appointments scheduled\n",
    "at Columbia University Medical\n",
    "Center (CUMC) from 2010 to 2014.\n",
    "<br>\n",
    "Since the dataset is large, and there\n",
    "are a few people that make appointments\n",
    "as far as 1 year in advance, to make\n",
    "the problem easier, we'll focus on\n",
    "the data for people that make appointments\n",
    "at most 30 days in advance."
   ]
  },
  {
   "cell_type": "code",
   "execution_count": 2,
   "metadata": {},
   "outputs": [
    {
     "name": "stdout",
     "output_type": "stream",
     "text": [
      "491831\n"
     ]
    }
   ],
   "source": [
    "zf = zipfile.ZipFile('Appointments.csv.zip')\n",
    "df = pd.read_csv(zf.open('Appointments.csv'), sep=',')\n",
    "appointment_made = [datetime.strptime(x, '%m/%d/%Y') for x in df.values[:, 5]]\n",
    "appointment_date = [datetime.strptime(x, '%m/%d/%Y') for x in df.values[:, 6]]\n",
    "delay = np.busday_count(appointment_made, appointment_date, weekmask='1111111')\n",
    "delay = [float(x) for x in delay if x >= 0]\n",
    "delay = [x for x in delay if x <= 30]\n",
    "N = len(delay)\n",
    "print(N)"
   ]
  },
  {
   "cell_type": "code",
   "execution_count": 3,
   "metadata": {},
   "outputs": [
    {
     "name": "stdout",
     "output_type": "stream",
     "text": [
      "mean: 9.47753801610716\n",
      "variance: 83.55146707147975\n"
     ]
    },
    {
     "data": {
      "image/png": "[encoded data removed]",
      "text/plain": [
       "<matplotlib.figure.Figure at 0x10760a5c0>"
      ]
     },
     "metadata": {},
     "output_type": "display_data"
    }
   ],
   "source": [
    "print('mean:', np.mean(delay))\n",
    "print('variance:', np.var(delay))\n",
    "plt.hist(delay, bins=range(31))\n",
    "plt.show()"
   ]
  },
  {
   "cell_type": "markdown",
   "metadata": {},
   "source": [
    "$\\LARGE \\mathbf {Model: Poisson\\; Mixture}$"
   ]
  },
  {
   "cell_type": "markdown",
   "metadata": {},
   "source": [
    "The number of days that people make\n",
    "appointments in advance is a non-negative\n",
    "integer, and we can see from the\n",
    "plot that there are several peaks.\n",
    "<br>\n",
    "Therefore, we'll analyze the data with\n",
    "a Poisson Mixture Model. Specifically, suppose\n",
    "we have $K$ Poisson distributions\n",
    "with parameters $\\lambda_{1},...,\\lambda_{K}$\n",
    "mixed together with\n",
    "proportions $p_{1},...,p_{K}$. Let\n",
    "$\\theta=(\\lambda_{1},...,\\lambda_{K},p_{1},...,p_{K})$,\n",
    "then the likelihood is\n",
    "$$f(X|\\theta)=\\prod_{i=1}^{N}\\sum_{k=1}^{K}\n",
    "p_{k}e^{-\\lambda_{k}}\\frac{\\lambda_{k}^{X_{i}}}{X_{i}!}.$$"
   ]
  },
  {
   "cell_type": "markdown",
   "metadata": {},
   "source": [
    "$\\LARGE \\mathbf {Inference: Frequentist\\; and\\; Bayesian}$"
   ]
  },
  {
   "cell_type": "markdown",
   "metadata": {},
   "source": [
    "We'll start from a frequentist's point of view,\n",
    "and try to find the parameters that maximize the\n",
    "likelihood. Since it's hard to do this directly, we'll use the\n",
    "EM algorithm, and update the parameters as follows:\n",
    "$$\\begin{align*}\n",
    "q(k,i) & \\leftarrow p_{k}Poisson(X_{i},\\lambda_{k})\\\\\n",
    "p(k|i) & \\leftarrow\\frac{q(k,i)}{\\sum_{k=1}^{K}q(k,i)}\\\\\n",
    "z(k) & \\leftarrow\\sum_{i=1}^{N}p(k|i)\\\\\n",
    "p_{k} & \\leftarrow\\frac{z(k)}{N}\\\\\n",
    "\\lambda_{k} & \\leftarrow\\frac{\\sum_{i=1}^{N}p(k|i)X_{i}}{z(k)}\n",
    "\\end{align*}$$"
   ]
  },
  {
   "cell_type": "code",
   "execution_count": 4,
   "metadata": {},
   "outputs": [
    {
     "name": "stdout",
     "output_type": "stream",
     "text": [
      "mixing proportion:  [0.29077816 0.30589561 0.18488421 0.21844202]\n",
      "cluster mean:  [ 0.38061447  5.59661077 13.54863022 23.57585386]\n"
     ]
    }
   ],
   "source": [
    "pi_EM, lam_EM, q_EM = EM(4, N, delay)\n",
    "print('mixing proportion: ', pi_EM)\n",
    "print('cluster mean: ', lam_EM)"
   ]
  },
  {
   "cell_type": "code",
   "execution_count": 5,
   "metadata": {},
   "outputs": [
    {
     "data": {
      "image/png": "[encoded data removed]",
      "text/plain": [
       "<matplotlib.figure.Figure at 0x1c1f0bb6a0>"
      ]
     },
     "metadata": {},
     "output_type": "display_data"
    }
   ],
   "source": [
    "y = np.zeros(N)\n",
    "for i in range(31):\n",
    "    indices = [j for j, x in enumerate(delay) if x == i]\n",
    "    values = [j for j in range(len(indices))]\n",
    "    y[indices] = values\n",
    "clusters = np.argmax(q_EM, 0)\n",
    "plt.scatter(delay, y, c=clusters, cmap=cm.bwr)\n",
    "plt.title(\"Predicted Cluster Assignments\")\n",
    "plt.show()"
   ]
  },
  {
   "cell_type": "markdown",
   "metadata": {},
   "source": [
    "Now, we'll try to make inference from a\n",
    "Bayesian point of view. We'll start with\n",
    "variational inference. By expressing the\n",
    "mixture model in terms of missing data, we'll introduce\n",
    "indicator parameters $z's$ such that\n",
    "$z_{ik}=1$ if the $i$-th observation belongs to the $k$-th\n",
    "component and $z_{ik}=0$ otherwise.\n",
    "To start, we use a non-informative Dirichlet\n",
    "prior for $p's$, and Gamma priors with mean\n",
    "equal to $10$ for  $\\lambda's$. As for the posteriors,\n",
    "we use Dirichlet for  $p's$, Gamma for\n",
    "$\\lambda's$, and Categorical for $z's$."
   ]
  },
  {
   "cell_type": "code",
   "execution_count": 6,
   "metadata": {},
   "outputs": [
    {
     "name": "stdout",
     "output_type": "stream",
     "text": [
      "{'t': 1, 'loss': 7720977.0}\n",
      "{'t': 2, 'loss': 4636693.5}\n",
      "{'t': 3, 'loss': 5339497.5}\n",
      "{'t': 4, 'loss': 3919421.5}\n",
      "{'t': 5, 'loss': 4807272.5}\n",
      "{'t': 6, 'loss': 3790011.5}\n",
      "{'t': 7, 'loss': 6706275.0}\n",
      "{'t': 8, 'loss': 4062459.8}\n",
      "{'t': 9, 'loss': 3985507.8}\n",
      "{'t': 10, 'loss': 3609796.0}\n",
      "{'t': 11, 'loss': 8129606.0}\n",
      "{'t': 12, 'loss': 16172377.0}\n",
      "{'t': 13, 'loss': 6202098.5}\n",
      "{'t': 14, 'loss': 5808630.0}\n",
      "{'t': 15, 'loss': 6323906.5}\n",
      "{'t': 16, 'loss': 5563756.0}\n",
      "{'t': 17, 'loss': 5622288.5}\n",
      "{'t': 18, 'loss': 6874749.0}\n",
      "{'t': 19, 'loss': 6656369.0}\n",
      "{'t': 20, 'loss': 6340034.0}\n"
     ]
    }
   ],
   "source": [
    "K = 4\n",
    "pi = Dirichlet(tf.ones(K))\n",
    "lam = Gamma(1.0, 0.1, sample_shape=K)\n",
    "x = ParamMixture(pi, {'rate': lam}, Poisson, sample_shape=N)\n",
    "z = x.cat\n",
    "\n",
    "qpi_VI = Dirichlet(tf.nn.softplus(tf.get_variable(\"qpi_VI\", [K])))\n",
    "qlam_VI = Gamma(tf.nn.softplus(tf.get_variable(\n",
    "                \"qlam_VI_a\", [K])),\n",
    "                tf.nn.softplus(tf.get_variable(\"qlam_VI_b\", [K])))\n",
    "qz_VI = Categorical(logits=tf.get_variable(\"qz_VI\", [N, K]))\n",
    "\n",
    "inference = ed.KLqp({lam: qlam_VI, pi: qpi_VI, z: qz_VI}, data={x: delay})\n",
    "inference.initialize()\n",
    "\n",
    "sess = ed.get_session()\n",
    "tf.global_variables_initializer().run()\n",
    "\n",
    "for _ in range(20):\n",
    "    print(inference.update())"
   ]
  },
  {
   "cell_type": "markdown",
   "metadata": {},
   "source": [
    "As we can see, the problem is not as easy, and\n",
    "if we just do a simple variational inference using Edward,\n",
    "then the loss doesn't converge. This is\n",
    "probably because the variance in BBVI is too\n",
    "large. So we can try to simplify the inference\n",
    "process by marginalizing out $z's$ and focus\n",
    "on inferencing $p's$ and $\\lambda's$. But just\n",
    "doing this is not enough for the loss to converge,\n",
    "so we also fix the mixing proportions. Specifically,\n",
    "we fix $p's$ to be the values inferred from the EM\n",
    "algorithm, and we set the Gamma priors of the\n",
    "$\\lambda's$ so that the means are the same\n",
    "as what we get from the EM algorithm."
   ]
  },
  {
   "cell_type": "code",
   "execution_count": 7,
   "metadata": {},
   "outputs": [
    {
     "name": "stdout",
     "output_type": "stream",
     "text": [
      "{'t': 1, 'loss': 126.22917}\n",
      "{'t': 25000, 'loss': -0.23336887}\n"
     ]
    }
   ],
   "source": [
    "pi = tf.constant([0.29077816, 0.30589561, 0.18488421, 0.21844202])\n",
    "lam = Gamma([0.38061447, 5.59661077, 13.54863022, 23.57585386],\n",
    "            [1.0, 1.0, 1.0, 1.0])\n",
    "\n",
    "x = tf.gather(pi, 0)*Poisson(tf.gather(lam, 0), sample_shape=N)\n",
    "for i in range(1, K):\n",
    "    x = x + tf.gather(pi, i) * Poisson(tf.gather(lam, i), sample_shape=N)\n",
    "\n",
    "qlam_fix = Gamma(tf.nn.softplus(tf.get_variable(\n",
    "                \"qlam_fix_a\", [K])),\n",
    "                tf.nn.softplus(tf.get_variable(\"qlam_fix_b\", [K])))\n",
    "\n",
    "inference = ed.KLqp({lam: qlam_fix}, data={x: delay})\n",
    "inference.initialize(optimizer=tf.train.AdamOptimizer(1e-2))\n",
    "\n",
    "sess = ed.get_session()\n",
    "tf.global_variables_initializer().run()\n",
    "\n",
    "for t in range(25000):\n",
    "    loss = inference.update()\n",
    "    if t == 0 or t == 24999:\n",
    "        print(loss)"
   ]
  },
  {
   "cell_type": "markdown",
   "metadata": {},
   "source": [
    "For this to work, we have to  explicitly specify\n",
    "an optimer so that we can tune the parameters.\n",
    "We use the Adam optimizer, and after some careful\n",
    "tuning of the learning rate and the number of\n",
    "training iterations, we see that the posteriors\n",
    "for $\\lambda's$ again have approximately the same\n",
    "means, but the $\\alpha's$ and $\\beta's$ have\n",
    "changed a lot from the priors."
   ]
  },
  {
   "cell_type": "code",
   "execution_count": 8,
   "metadata": {},
   "outputs": [
    {
     "name": "stdout",
     "output_type": "stream",
     "text": [
      "alpha:  [ 0.373412  5.674315 11.980584 15.900781]\n",
      "beta:  [0.9724665  0.95911413 0.8708647  0.6614451 ]\n",
      "mean:  [ 0.38398445  5.916204   13.757113   24.039457  ]\n"
     ]
    }
   ],
   "source": [
    "print('alpha: ', qlam_fix.concentration.eval())\n",
    "print('beta: ', qlam_fix.rate.eval())\n",
    "print('mean: ', qlam_fix.mean().eval())"
   ]
  },
  {
   "cell_type": "markdown",
   "metadata": {},
   "source": [
    "We can also fix $\\lambda's$ to be the values\n",
    "inferred from the EM algorithm, and make\n",
    "inference for $p's$."
   ]
  },
  {
   "cell_type": "code",
   "execution_count": 9,
   "metadata": {},
   "outputs": [
    {
     "name": "stdout",
     "output_type": "stream",
     "text": [
      "{'t': 1, 'loss': 0.49332094}\n",
      "{'t': 7000, 'loss': 0.025053501}\n"
     ]
    }
   ],
   "source": [
    "pi = Dirichlet([0.29077816, 0.30589561, 0.18488421, 0.21844202])\n",
    "lam = tf.constant([0.38061447, 5.59661077, 13.54863022, 23.57585386])\n",
    "\n",
    "x = tf.gather(pi, 0) * Poisson(tf.gather(lam, 0), sample_shape=N)\n",
    "for i in range(1, K):\n",
    "    x = x + tf.gather(pi, i) * Poisson(tf.gather(lam, i), sample_shape=N)\n",
    "\n",
    "qpi_fix = Dirichlet(tf.nn.softplus(tf.get_variable(\"qpi_fix\", [K])))\n",
    "\n",
    "inference = ed.KLqp({pi: qpi_fix}, data={x: delay})\n",
    "inference.initialize(optimizer=tf.train.AdamOptimizer(1e-3))\n",
    "\n",
    "sess = ed.get_session()\n",
    "tf.global_variables_initializer().run()\n",
    "\n",
    "for t in range(7000):\n",
    "    loss = inference.update()\n",
    "    if t == 0 or t == 6999:\n",
    "        print(loss)"
   ]
  },
  {
   "cell_type": "markdown",
   "metadata": {},
   "source": [
    "Again we have to tune the parameters for\n",
    "the algorithm to converge, but it's harder\n",
    "now because the initial loss is quite small,\n",
    "so the prior is quite strong. After some\n",
    "experimentations, we see that the means\n",
    "of the Dirichlet posterior are close\n",
    "to that of the prior, but the parameters have changed."
   ]
  },
  {
   "cell_type": "code",
   "execution_count": 10,
   "metadata": {},
   "outputs": [
    {
     "name": "stdout",
     "output_type": "stream",
     "text": [
      "concentration:  [0.29723063 0.3148913  0.18831621 0.23035294]\n",
      "mean:  [0.28835198 0.3054851  0.18269096 0.223472  ]\n"
     ]
    }
   ],
   "source": [
    "print('concentration: ', qpi_fix.concentration.eval())\n",
    "print('mean: ', qpi_fix.mean().eval())"
   ]
  },
  {
   "cell_type": "markdown",
   "metadata": {},
   "source": [
    "Building on the above two cases, we\n",
    "can try to run an EM version of variational\n",
    "inference by alternatively updating $p's$\n",
    "and $\\lambda's$. For the\n",
    "loss to converge, in each iteration, we\n",
    "update $p's$ once and then update $\\lambda's$ ten times."
   ]
  },
  {
   "cell_type": "code",
   "execution_count": 11,
   "metadata": {},
   "outputs": [],
   "source": [
    "pi = Dirichlet([0.29077816, 0.30589561, 0.18488421, 0.21844202])\n",
    "lam = Gamma([0.38061447, 5.59661077, 13.54863022, 23.57585386],\n",
    "            [1.0, 1.0, 1.0, 1.0])\n",
    "\n",
    "x = tf.gather(pi, 0) * Poisson(tf.gather(lam, 0), sample_shape=N)\n",
    "for i in range(1, K):\n",
    "    x = x + tf.gather(pi, i) * Poisson(tf.gather(lam, i), sample_shape=N)\n",
    "\n",
    "qpi = Dirichlet(tf.nn.softplus(tf.get_variable(\"qpi\", [K])))\n",
    "qlam = Gamma(\n",
    "             tf.nn.softplus(tf.get_variable(\"qlam_a\", [K])),\n",
    "             tf.nn.softplus(tf.get_variable(\"qlam_b\", [K]))\n",
    ")\n",
    "\n",
    "inference_e = ed.KLqp({pi: qpi}, data={x: delay})\n",
    "inference_m = ed.KLqp({lam: qlam}, data={x: delay})\n",
    "inference_e.initialize(optimizer=tf.train.AdamOptimizer(1e-3))\n",
    "inference_m.initialize(optimizer=tf.train.AdamOptimizer(1e-3))\n",
    "\n",
    "sess = ed.get_session()\n",
    "tf.global_variables_initializer().run()\n",
    "\n",
    "for _ in range(6000):\n",
    "    inference_e.update()\n",
    "    for _ in range(10):\n",
    "        inference_m.update()"
   ]
  },
  {
   "cell_type": "markdown",
   "metadata": {},
   "source": [
    "We see that the results are actually\n",
    "similar to what we get from making inference separately."
   ]
  },
  {
   "cell_type": "code",
   "execution_count": 12,
   "metadata": {},
   "outputs": [
    {
     "name": "stdout",
     "output_type": "stream",
     "text": [
      "alpha:  [0.36102822 3.3400044  4.8751955  6.1770616 ]\n",
      "beta:  [0.91632813 0.59143317 0.34695467 0.2659854 ]\n",
      "mean:  [ 0.39399448  5.6473064  14.051391   23.22331   ]\n"
     ]
    }
   ],
   "source": [
    "print('alpha: ', qlam.concentration.eval())\n",
    "print('beta: ', qlam.rate.eval())\n",
    "print('mean: ', qlam.mean().eval())"
   ]
  },
  {
   "cell_type": "code",
   "execution_count": 13,
   "metadata": {},
   "outputs": [
    {
     "name": "stdout",
     "output_type": "stream",
     "text": [
      "concentration:  [0.32047132 0.33844158 0.1909489  0.24319838]\n",
      "mean:  [0.29318726 0.3096276  0.17469203 0.22249314]\n"
     ]
    }
   ],
   "source": [
    "print('concentration: ', qpi.concentration.eval())\n",
    "print('mean: ', qpi.mean().eval())"
   ]
  },
  {
   "cell_type": "markdown",
   "metadata": {},
   "source": [
    "$\\LARGE \\mathbf {Criticism}$"
   ]
  },
  {
   "cell_type": "markdown",
   "metadata": {},
   "source": [
    "To evaluate the model, we can first\n",
    "use some information criteria such as AIC,\n",
    "DIC and WAIC.\n",
    "<br>\n",
    "AIC uses a simple bias-corrected\n",
    "adjustment of within-sample error, and\n",
    "$$AIC = -2\\times(logp(X|\\hat{\\theta}_{mle})-k).$$"
   ]
  },
  {
   "cell_type": "code",
   "execution_count": 14,
   "metadata": {},
   "outputs": [],
   "source": [
    "# AIC\n",
    "pi_EM = tf.constant(np.array([0.29077816, 0.30589561, 0.18488421, 0.21844202],\n",
    "                             ndmin=2))\n",
    "lam_EM = tf.constant(np.array([0.38061447,\n",
    "                               5.59661077, 13.54863022, 23.57585386], ndmin=2))\n",
    "elpd_AIC = 0\n",
    "for i in range(31):\n",
    "    log_EM, _ = calc_prob(pi_EM, lam_EM, np.float64(i), 1, K)\n",
    "    elpd_AIC += log_EM * delay.count(i)\n",
    "elpd_AIC -= 2 * K\n",
    "AIC = -2 * elpd_AIC"
   ]
  },
  {
   "cell_type": "code",
   "execution_count": 15,
   "metadata": {},
   "outputs": [
    {
     "name": "stdout",
     "output_type": "stream",
     "text": [
      "AIC:  3101315.840602224\n"
     ]
    }
   ],
   "source": [
    "print('AIC: ', AIC)"
   ]
  },
  {
   "cell_type": "markdown",
   "metadata": {},
   "source": [
    "DIC is a somewhat Bayesian version of AIC, and\n",
    "$$DIC=-2\\times(logp(X|\\hat{\\theta}_{Bayes})-p_{DIC}).$$"
   ]
  },
  {
   "cell_type": "code",
   "execution_count": 16,
   "metadata": {},
   "outputs": [
    {
     "name": "stdout",
     "output_type": "stream",
     "text": [
      "DIC:  6266607.486829979\n"
     ]
    }
   ],
   "source": [
    "DIC_VI, WAIC_VI, lppd_VI, post_prob_VI = info_crit(qpi, qlam, K, delay)\n",
    "print('DIC: ', DIC_VI)"
   ]
  },
  {
   "cell_type": "markdown",
   "metadata": {},
   "source": [
    "WAIC is a more fully Bayesian approach, and\n",
    "$$WAIC=-2\\times(lppd-p_{WAIC}).$$"
   ]
  },
  {
   "cell_type": "code",
   "execution_count": 17,
   "metadata": {},
   "outputs": [
    {
     "name": "stdout",
     "output_type": "stream",
     "text": [
      "WAIC:  6197616.149034959\n",
      "lppd: -1585683.0342659876\n"
     ]
    }
   ],
   "source": [
    "print('WAIC: ', WAIC_VI)\n",
    "print('lppd:', lppd_VI)"
   ]
  },
  {
   "cell_type": "markdown",
   "metadata": {},
   "source": [
    "We can also plot the expected posterior probabilities.\n",
    "But we notice that it's hard to see the\n",
    "mixture pattern because the peaks are not very obvious."
   ]
  },
  {
   "cell_type": "code",
   "execution_count": 18,
   "metadata": {},
   "outputs": [
    {
     "data": {
      "image/png": "[encoded data removed]",
      "text/plain": [
       "<matplotlib.figure.Figure at 0x1d074efa90>"
      ]
     },
     "metadata": {},
     "output_type": "display_data"
    }
   ],
   "source": [
    "plt.scatter([x for x in range(31)], post_prob_VI)\n",
    "plt.title('Posterior Probabilities from Variational Inference')\n",
    "plt.show()"
   ]
  },
  {
   "cell_type": "markdown",
   "metadata": {},
   "source": [
    "We can also do posterior predictive checks. The simplest\n",
    "PPC works by applying a test statistic on many new\n",
    "data generated from the posterior predictive\n",
    "to induce a distribution. We\n",
    "compare this distribution to the test\n",
    "statistic on the real data."
   ]
  },
  {
   "cell_type": "code",
   "execution_count": 19,
   "metadata": {},
   "outputs": [],
   "source": [
    "post_prob = np.concatenate((post_prob_VI, [1 - np.sum(post_prob_VI)]))\n",
    "T_X = np.zeros(100)\n",
    "for i in range(100):\n",
    "    X = np.argmax(np.random.multinomial(1, post_prob, size=N), axis=1)\n",
    "    X = [x for x in X if x <= 30]\n",
    "    T_X[i] = np.percentile(X, 75)"
   ]
  },
  {
   "cell_type": "markdown",
   "metadata": {},
   "source": [
    "We see that the new datasets generated\n",
    "from the variational posteriors\n",
    "are somewhat different from our original dataset."
   ]
  },
  {
   "cell_type": "code",
   "execution_count": 20,
   "metadata": {},
   "outputs": [
    {
     "data": {
      "image/png": "[encoded data removed]",
      "text/plain": [
       "<matplotlib.figure.Figure at 0x1d07532b38>"
      ]
     },
     "metadata": {},
     "output_type": "display_data"
    }
   ],
   "source": [
    "plt.hist(T_X, bins=range(31))\n",
    "plt.vlines(np.percentile(delay, 75), ymin=0, ymax=30, label='T(X)')\n",
    "plt.legend(title=r'$T \\equiv$75th percentile')\n",
    "plt.show()"
   ]
  },
  {
   "cell_type": "markdown",
   "metadata": {},
   "source": [
    "We can also use the trained posteriors as\n",
    "proposals for the Metropolis Hastings algorithm.\n",
    "But we see that the acceptance rate is almost always\n",
    "$0$, so it also shows that our variational\n",
    "posteriors are not very good."
   ]
  },
  {
   "cell_type": "code",
   "execution_count": 21,
   "metadata": {},
   "outputs": [
    {
     "name": "stdout",
     "output_type": "stream",
     "text": [
      "  1/500 [  0%]                                ETA: 13360s | Acceptance Rate: nan\n",
      "Inferred cluster means:\n",
      "[0. 0. 0. 0.]\n",
      " 10/500 [  2%]                                ETA: 1661s | Acceptance Rate: 0.000\n",
      "Inferred cluster means:\n",
      "[0. 0. 0. 0.]\n",
      "\n",
      "Inferred cluster means:\n",
      "[0. 0. 0. 0.]\n",
      " 20/500 [  4%] █                              ETA: 813s | Acceptance Rate: 0.000 \n",
      "Inferred cluster means:\n",
      "[0. 0. 0. 0.]\n",
      "\n",
      "Inferred cluster means:\n",
      "[0. 0. 0. 0.]\n",
      " 30/500 [  6%] █                              ETA: 531s | Acceptance Rate: 0.000\n",
      "Inferred cluster means:\n",
      "[0. 0. 0. 0.]\n",
      "\n",
      "Inferred cluster means:\n",
      "[0. 0. 0. 0.]\n",
      " 40/500 [  8%] ██                             ETA: 390s | Acceptance Rate: 0.000\n",
      "Inferred cluster means:\n",
      "[0. 0. 0. 0.]\n",
      "\n",
      "Inferred cluster means:\n",
      "[0. 0. 0. 0.]\n",
      " 50/500 [ 10%] ███                            ETA: 305s | Acceptance Rate: 0.000\n",
      "Inferred cluster means:\n",
      "[0. 0. 0. 0.]\n",
      "\n",
      "Inferred cluster means:\n",
      "[0. 0. 0. 0.]\n",
      " 60/500 [ 12%] ███                            ETA: 249s | Acceptance Rate: 0.000\n",
      "Inferred cluster means:\n",
      "[0. 0. 0. 0.]\n",
      " 65/500 [ 13%] ███                            ETA: 227s | Acceptance Rate: 0.000\n",
      "Inferred cluster means:\n",
      "[0. 0. 0. 0.]\n",
      "\n",
      "Inferred cluster means:\n",
      "[0. 0. 0. 0.]\n",
      " 75/500 [ 15%] ████                           ETA: 192s | Acceptance Rate: 0.000\n",
      "Inferred cluster means:\n",
      "[0. 0. 0. 0.]\n",
      " 80/500 [ 16%] ████                           ETA: 178s | Acceptance Rate: 0.000\n",
      "Inferred cluster means:\n",
      "[0. 0. 0. 0.]\n",
      "\n",
      "Inferred cluster means:\n",
      "[0. 0. 0. 0.]\n",
      " 90/500 [ 18%] █████                          ETA: 155s | Acceptance Rate: 0.000\n",
      "Inferred cluster means:\n",
      "[0. 0. 0. 0.]\n",
      "\n",
      "Inferred cluster means:\n",
      "[0. 0. 0. 0.]\n",
      "100/500 [ 20%] ██████                         ETA: 136s | Acceptance Rate: 0.000\n",
      "Inferred cluster means:\n",
      "[0. 0. 0. 0.]\n",
      "\n",
      "Inferred cluster means:\n",
      "[0. 0. 0. 0.]\n",
      "110/500 [ 22%] ██████                         ETA: 120s | Acceptance Rate: 0.000\n",
      "Inferred cluster means:\n",
      "[0. 0. 0. 0.]\n",
      "\n",
      "Inferred cluster means:\n",
      "[0. 0. 0. 0.]\n",
      "120/500 [ 24%] ███████                        ETA: 107s | Acceptance Rate: 0.000\n",
      "Inferred cluster means:\n",
      "[0. 0. 0. 0.]\n",
      "\n",
      "Inferred cluster means:\n",
      "[0. 0. 0. 0.]\n",
      "130/500 [ 26%] ███████                        ETA: 97s | Acceptance Rate: 0.000 \n",
      "Inferred cluster means:\n",
      "[0. 0. 0. 0.]\n",
      "135/500 [ 27%] ████████                       ETA: 92s | Acceptance Rate: 0.000\n",
      "Inferred cluster means:\n",
      "[0. 0. 0. 0.]\n",
      "\n",
      "Inferred cluster means:\n",
      "[0. 0. 0. 0.]\n",
      "145/500 [ 28%] ████████                       ETA: 83s | Acceptance Rate: 0.000\n",
      "Inferred cluster means:\n",
      "[0. 0. 0. 0.]\n",
      "150/500 [ 30%] █████████                      ETA: 79s | Acceptance Rate: 0.000\n",
      "Inferred cluster means:\n",
      "[0. 0. 0. 0.]\n",
      "\n",
      "Inferred cluster means:\n",
      "[0. 0. 0. 0.]\n",
      "160/500 [ 32%] █████████                      ETA: 72s | Acceptance Rate: 0.000\n",
      "Inferred cluster means:\n",
      "[0. 0. 0. 0.]\n",
      "165/500 [ 33%] █████████                      ETA: 69s | Acceptance Rate: 0.000\n",
      "Inferred cluster means:\n",
      "[0. 0. 0. 0.]\n",
      "\n",
      "Inferred cluster means:\n",
      "[0. 0. 0. 0.]\n",
      "175/500 [ 35%] ██████████                     ETA: 63s | Acceptance Rate: 0.000\n",
      "Inferred cluster means:\n",
      "[0. 0. 0. 0.]\n",
      "180/500 [ 36%] ██████████                     ETA: 60s | Acceptance Rate: 0.000\n",
      "Inferred cluster means:\n",
      "[0. 0. 0. 0.]\n",
      "185/500 [ 37%] ███████████                    ETA: 58s | Acceptance Rate: 0.000\n",
      "Inferred cluster means:\n",
      "[0. 0. 0. 0.]\n",
      "\n",
      "Inferred cluster means:\n",
      "[0. 0. 0. 0.]\n",
      "195/500 [ 39%] ███████████                    ETA: 53s | Acceptance Rate: 0.000\n",
      "Inferred cluster means:\n",
      "[0. 0. 0. 0.]\n",
      "200/500 [ 40%] ████████████                   ETA: 51s | Acceptance Rate: 0.000\n",
      "Inferred cluster means:\n",
      "[0. 0. 0. 0.]\n",
      "\n",
      "Inferred cluster means:\n",
      "[0. 0. 0. 0.]\n",
      "210/500 [ 42%] ████████████                   ETA: 47s | Acceptance Rate: 0.000\n",
      "Inferred cluster means:\n",
      "[0. 0. 0. 0.]\n",
      "215/500 [ 43%] ████████████                   ETA: 45s | Acceptance Rate: 0.000\n",
      "Inferred cluster means:\n",
      "[0. 0. 0. 0.]\n",
      "220/500 [ 44%] █████████████                  ETA: 43s | Acceptance Rate: 0.000\n",
      "Inferred cluster means:\n",
      "[0. 0. 0. 0.]\n",
      "\n",
      "Inferred cluster means:\n",
      "[0. 0. 0. 0.]\n",
      "230/500 [ 46%] █████████████                  ETA: 40s | Acceptance Rate: 0.000\n",
      "Inferred cluster means:\n",
      "[0. 0. 0. 0.]\n",
      "235/500 [ 47%] ██████████████                 ETA: 38s | Acceptance Rate: 0.000\n",
      "Inferred cluster means:\n",
      "[0. 0. 0. 0.]\n",
      "240/500 [ 48%] ██████████████                 ETA: 37s | Acceptance Rate: 0.000\n",
      "Inferred cluster means:\n",
      "[0. 0. 0. 0.]\n",
      "245/500 [ 49%] ██████████████                 ETA: 35s | Acceptance Rate: 0.000\n",
      "Inferred cluster means:\n",
      "[0. 0. 0. 0.]\n",
      "250/500 [ 50%] ███████████████                ETA: 34s | Acceptance Rate: 0.000\n",
      "Inferred cluster means:\n",
      "[0. 0. 0. 0.]\n",
      "\n",
      "Inferred cluster means:\n",
      "[0. 0. 0. 0.]\n",
      "260/500 [ 52%] ███████████████                ETA: 31s | Acceptance Rate: 0.000\n",
      "Inferred cluster means:\n",
      "[0. 0. 0. 0.]\n",
      "265/500 [ 53%] ███████████████                ETA: 30s | Acceptance Rate: 0.000\n",
      "Inferred cluster means:\n",
      "[0. 0. 0. 0.]\n",
      "\n",
      "Inferred cluster means:\n",
      "[0. 0. 0. 0.]\n",
      "275/500 [ 55%] ████████████████               ETA: 28s | Acceptance Rate: 0.000\n",
      "Inferred cluster means:\n",
      "[0. 0. 0. 0.]\n",
      "280/500 [ 56%] ████████████████               ETA: 27s | Acceptance Rate: 0.000\n",
      "Inferred cluster means:\n",
      "[0. 0. 0. 0.]\n",
      "\n",
      "Inferred cluster means:\n",
      "[0. 0. 0. 0.]\n",
      "290/500 [ 57%] █████████████████              ETA: 24s | Acceptance Rate: 0.000\n",
      "Inferred cluster means:\n",
      "[0. 0. 0. 0.]\n",
      "295/500 [ 59%] █████████████████              ETA: 23s | Acceptance Rate: 0.000\n",
      "Inferred cluster means:\n",
      "[0. 0. 0. 0.]\n",
      "\n",
      "Inferred cluster means:\n",
      "[0. 0. 0. 0.]\n",
      "305/500 [ 61%] ██████████████████             ETA: 22s | Acceptance Rate: 0.000\n",
      "Inferred cluster means:\n",
      "[0. 0. 0. 0.]\n",
      "310/500 [ 62%] ██████████████████             ETA: 21s | Acceptance Rate: 0.000\n",
      "Inferred cluster means:\n",
      "[0. 0. 0. 0.]\n",
      "315/500 [ 63%] ██████████████████             ETA: 20s | Acceptance Rate: 0.000\n",
      "Inferred cluster means:\n",
      "[0. 0. 0. 0.]\n",
      "320/500 [ 64%] ███████████████████            ETA: 19s | Acceptance Rate: 0.000\n",
      "Inferred cluster means:\n",
      "[0. 0. 0. 0.]\n",
      "325/500 [ 65%] ███████████████████            ETA: 18s | Acceptance Rate: 0.000\n",
      "Inferred cluster means:\n",
      "[0. 0. 0. 0.]\n",
      "330/500 [ 66%] ███████████████████            ETA: 17s | Acceptance Rate: 0.000\n",
      "Inferred cluster means:\n",
      "[0. 0. 0. 0.]\n",
      "335/500 [ 67%] ████████████████████           ETA: 17s | Acceptance Rate: 0.000\n",
      "Inferred cluster means:\n",
      "[0. 0. 0. 0.]\n",
      "\n",
      "Inferred cluster means:\n",
      "[0. 0. 0. 0.]\n",
      "345/500 [ 69%] ████████████████████           ETA: 15s | Acceptance Rate: 0.000\n",
      "Inferred cluster means:\n",
      "[0. 0. 0. 0.]\n",
      "350/500 [ 70%] █████████████████████          ETA: 14s | Acceptance Rate: 0.000\n",
      "Inferred cluster means:\n",
      "[0. 0. 0. 0.]\n",
      "355/500 [ 71%] █████████████████████          ETA: 14s | Acceptance Rate: 0.000\n",
      "Inferred cluster means:\n",
      "[0. 0. 0. 0.]\n",
      "360/500 [ 72%] █████████████████████          ETA: 13s | Acceptance Rate: 0.000\n",
      "Inferred cluster means:\n",
      "[0. 0. 0. 0.]\n",
      "\n",
      "Inferred cluster means:\n",
      "[0. 0. 0. 0.]\n",
      "370/500 [ 74%] ██████████████████████         ETA: 12s | Acceptance Rate: 0.000\n",
      "Inferred cluster means:\n",
      "[0. 0. 0. 0.]\n",
      "\n",
      "Inferred cluster means:\n",
      "[0. 0. 0. 0.]\n",
      "380/500 [ 76%] ██████████████████████         ETA: 10s | Acceptance Rate: 0.000\n",
      "Inferred cluster means:\n",
      "[0. 0. 0. 0.]\n",
      "385/500 [ 77%] ███████████████████████        ETA: 10s | Acceptance Rate: 0.000\n",
      "Inferred cluster means:\n",
      "[0. 0. 0. 0.]\n",
      "390/500 [ 78%] ███████████████████████        ETA: 9s | Acceptance Rate: 0.000 \n",
      "Inferred cluster means:\n",
      "[0. 0. 0. 0.]\n",
      "395/500 [ 79%] ███████████████████████        ETA: 9s | Acceptance Rate: 0.000\n",
      "Inferred cluster means:\n",
      "[0. 0. 0. 0.]\n",
      "400/500 [ 80%] ████████████████████████       ETA: 8s | Acceptance Rate: 0.000\n",
      "Inferred cluster means:\n",
      "[0. 0. 0. 0.]\n",
      "405/500 [ 81%] ████████████████████████       ETA: 8s | Acceptance Rate: 0.000\n",
      "Inferred cluster means:\n",
      "[0. 0. 0. 0.]\n",
      "\n",
      "Inferred cluster means:\n",
      "[0. 0. 0. 0.]\n",
      "415/500 [ 83%] ████████████████████████       ETA: 7s | Acceptance Rate: 0.000\n",
      "Inferred cluster means:\n",
      "[0. 0. 0. 0.]\n",
      "420/500 [ 84%] █████████████████████████      ETA: 6s | Acceptance Rate: 0.000\n",
      "Inferred cluster means:\n",
      "[0. 0. 0. 0.]\n",
      "425/500 [ 85%] █████████████████████████      ETA: 6s | Acceptance Rate: 0.000\n",
      "Inferred cluster means:\n",
      "[0. 0. 0. 0.]\n",
      "430/500 [ 86%] █████████████████████████      ETA: 5s | Acceptance Rate: 0.000\n",
      "Inferred cluster means:\n",
      "[0. 0. 0. 0.]\n",
      "435/500 [ 87%] ██████████████████████████     ETA: 5s | Acceptance Rate: 0.000\n",
      "Inferred cluster means:\n",
      "[0. 0. 0. 0.]\n",
      "\n",
      "Inferred cluster means:\n",
      "[0. 0. 0. 0.]\n",
      "445/500 [ 89%] ██████████████████████████     ETA: 4s | Acceptance Rate: 0.000\n",
      "Inferred cluster means:\n",
      "[0. 0. 0. 0.]\n",
      "450/500 [ 90%] ███████████████████████████    ETA: 3s | Acceptance Rate: 0.000\n",
      "Inferred cluster means:\n",
      "[0. 0. 0. 0.]\n",
      "455/500 [ 91%] ███████████████████████████    ETA: 3s | Acceptance Rate: 0.000\n",
      "Inferred cluster means:\n",
      "[0. 0. 0. 0.]\n",
      "460/500 [ 92%] ███████████████████████████    ETA: 3s | Acceptance Rate: 0.000\n",
      "Inferred cluster means:\n",
      "[0. 0. 0. 0.]\n",
      "\n",
      "Inferred cluster means:\n",
      "[0. 0. 0. 0.]\n",
      "470/500 [ 94%] ████████████████████████████   ETA: 2s | Acceptance Rate: 0.000\n",
      "Inferred cluster means:\n",
      "[0. 0. 0. 0.]\n",
      "475/500 [ 95%] ████████████████████████████   ETA: 1s | Acceptance Rate: 0.000\n",
      "Inferred cluster means:\n",
      "[0. 0. 0. 0.]\n",
      "480/500 [ 96%] ████████████████████████████   ETA: 1s | Acceptance Rate: 0.000\n",
      "Inferred cluster means:\n",
      "[0. 0. 0. 0.]\n",
      "485/500 [ 97%] █████████████████████████████  ETA: 1s | Acceptance Rate: 0.000\n",
      "Inferred cluster means:\n",
      "[0. 0. 0. 0.]\n",
      "490/500 [ 98%] █████████████████████████████  ETA: 0s | Acceptance Rate: 0.000\n",
      "Inferred cluster means:\n",
      "[0. 0. 0. 0.]\n",
      "495/500 [ 99%] █████████████████████████████  ETA: 0s | Acceptance Rate: 0.000\n",
      "Inferred cluster means:\n",
      "[0. 0. 0. 0.]\n",
      "500/500 [100%] ██████████████████████████████ Elapsed: 34s | Acceptance Rate: 0.000\n",
      "\n",
      "Inferred cluster means:\n",
      "[0. 0. 0. 0.]\n"
     ]
    }
   ],
   "source": [
    "T = 500\n",
    "qpi_MH = Empirical(tf.get_variable(\n",
    "                  \"qpi_MH\", [T, K],\n",
    "                  initializer=tf.constant_initializer(1.0 / K)))\n",
    "qlam_MH = Empirical(tf.get_variable(\n",
    "                   \"qlam_MH\", [T, K],\n",
    "                   initializer=tf.zeros_initializer()))\n",
    "\n",
    "inference = ed.MetropolisHastings({pi: qpi_MH,\n",
    "                                   lam: qlam_MH}, {pi: qpi, lam: qlam},\n",
    "                                  data={x: delay})\n",
    "inference.initialize()\n",
    "\n",
    "sess = ed.get_session()\n",
    "tf.global_variables_initializer().run()\n",
    "\n",
    "t_ph = tf.placeholder(tf.int32, [])\n",
    "running_cluster_means = tf.reduce_mean(qlam_MH.params[:t_ph], 0)\n",
    "\n",
    "for _ in range(inference.n_iter):\n",
    "    info_dict = inference.update()\n",
    "    inference.print_progress(info_dict)\n",
    "    t = info_dict['t']\n",
    "    if t % inference.n_print == 0:\n",
    "        print(\"\\nInferred cluster means:\")\n",
    "        print(sess.run(running_cluster_means, {t_ph: t - 1}))"
   ]
  },
  {
   "cell_type": "markdown",
   "metadata": {},
   "source": [
    "$\\LARGE \\mathbf {Better\\; Inference}$"
   ]
  },
  {
   "cell_type": "markdown",
   "metadata": {},
   "source": [
    "Fortunately, it's been shown\n",
    "that if we use a Dirichlet prior for $p's$ and Gamma\n",
    "priors for $\\lambda's$, then the sampling steps are readily found to be:\n",
    "$$\\begin{align*}\n",
    "z_{ik}\\sim & Multinomial(1,w_{i1},...,w_{iK}),\n",
    "\\quad i=1,...,N,\\quad k=1,...,K\\\\\n",
    " & where\\quad w_{ik}=\\frac{p_{k}f(X_{i}|\\lambda_{k})}\n",
    " {f(X_{i})},\\quad k=1,...,K\\\\\n",
    "p\\sim & Dirichlet(d_{1}+\\sum_{i=1}^{N}w_{i1},...,d_{K}\n",
    "+\\sum_{i=1}^{N}w_{iK})\\\\\n",
    "\\lambda_{k}\\sim & Gamma(a+\\sum_{i=1}^{N}z_{ik}X_{i},\n",
    "b+\\sum_{i=1}^{N}z_{ik})I(\\lambda_{k-1},\n",
    "\\lambda_{k+1}),\\quad k=1,...,K\n",
    "\\end{align*}$$\n",
    "So we can now implement Gibbs sampling."
   ]
  },
  {
   "cell_type": "code",
   "execution_count": 22,
   "metadata": {},
   "outputs": [
    {
     "name": "stdout",
     "output_type": "stream",
     "text": [
      "  5/500 [  1%]                                ETA: 575s | Acceptance Rate: 1.000\n",
      "Inferred cluster means:\n",
      "[ 8.830353   8.246432  21.454596   1.3074889]\n",
      " 10/500 [  2%]                                ETA: 415s | Acceptance Rate: 1.000\n",
      "Inferred cluster means:\n",
      "[ 8.623811    7.6835     21.563696    0.97138417]\n",
      " 15/500 [  3%]                                ETA: 364s | Acceptance Rate: 1.000\n",
      "Inferred cluster means:\n",
      "[ 8.833792   7.0612445 21.549973   0.8062967]\n",
      " 20/500 [  4%] █                              ETA: 332s | Acceptance Rate: 1.000\n",
      "Inferred cluster means:\n",
      "[ 9.264275    6.6018844  21.676126    0.70333135]\n",
      " 25/500 [  5%] █                              ETA: 311s | Acceptance Rate: 1.000\n",
      "Inferred cluster means:\n",
      "[ 9.72725     6.3154035  21.875381    0.63571256]\n",
      " 30/500 [  6%] █                              ETA: 298s | Acceptance Rate: 1.000\n",
      "Inferred cluster means:\n",
      "[10.146782   6.140825  22.069475   0.5893944]\n",
      " 35/500 [  7%] ██                             ETA: 289s | Acceptance Rate: 1.000\n",
      "Inferred cluster means:\n",
      "[10.506079    6.0274687  22.23693     0.55631953]\n",
      " 40/500 [  8%] ██                             ETA: 280s | Acceptance Rate: 1.000\n",
      "Inferred cluster means:\n",
      "[10.811572   5.951899  22.376265   0.5322468]\n",
      " 45/500 [  9%] ██                             ETA: 273s | Acceptance Rate: 1.000\n",
      "Inferred cluster means:\n",
      "[11.07547    5.8996296 22.493963   0.5141652]\n",
      " 50/500 [ 10%] ███                            ETA: 266s | Acceptance Rate: 1.000\n",
      "Inferred cluster means:\n",
      "[11.30249    5.862669  22.592955   0.5000851]\n",
      " 55/500 [ 11%] ███                            ETA: 260s | Acceptance Rate: 1.000\n",
      "Inferred cluster means:\n",
      "[11.495538   5.835211  22.676416   0.4886854]\n",
      " 60/500 [ 12%] ███                            ETA: 257s | Acceptance Rate: 1.000\n",
      "Inferred cluster means:\n",
      "[11.660068    5.813118   22.748411    0.47939143]\n",
      " 65/500 [ 13%] ███                            ETA: 255s | Acceptance Rate: 1.000\n",
      "Inferred cluster means:\n",
      "[11.802442    5.794988   22.811726    0.47171023]\n",
      " 70/500 [ 14%] ████                           ETA: 250s | Acceptance Rate: 1.000\n",
      "Inferred cluster means:\n",
      "[11.926711    5.780287   22.866186    0.46507618]\n",
      " 75/500 [ 15%] ████                           ETA: 245s | Acceptance Rate: 1.000\n",
      "Inferred cluster means:\n",
      "[12.034348    5.7673883  22.912714    0.45937356]\n",
      " 80/500 [ 16%] ████                           ETA: 240s | Acceptance Rate: 1.000\n",
      "Inferred cluster means:\n",
      "[12.128428    5.7554836  22.953737    0.45424443]\n",
      " 85/500 [ 17%] █████                          ETA: 236s | Acceptance Rate: 1.000\n",
      "Inferred cluster means:\n",
      "[12.210063    5.744984   22.990435    0.44971347]\n",
      " 90/500 [ 18%] █████                          ETA: 234s | Acceptance Rate: 1.000\n",
      "Inferred cluster means:\n",
      "[12.2850275   5.736731   23.023771    0.44580752]\n",
      " 95/500 [ 19%] █████                          ETA: 231s | Acceptance Rate: 1.000\n",
      "Inferred cluster means:\n",
      "[12.350806   5.7291527 23.051386   0.4423479]\n",
      "100/500 [ 20%] ██████                         ETA: 228s | Acceptance Rate: 1.000\n",
      "Inferred cluster means:\n",
      "[12.409442    5.722356   23.076616    0.43918204]\n",
      "105/500 [ 21%] ██████                         ETA: 226s | Acceptance Rate: 1.000\n",
      "Inferred cluster means:\n",
      "[12.46324     5.715911   23.099894    0.43626133]\n",
      "110/500 [ 22%] ██████                         ETA: 223s | Acceptance Rate: 1.000\n",
      "Inferred cluster means:\n",
      "[12.51481     5.7106075  23.121918    0.43371502]\n",
      "115/500 [ 23%] ██████                         ETA: 219s | Acceptance Rate: 1.000\n",
      "Inferred cluster means:\n",
      "[12.561229   5.705243  23.142729   0.4313359]\n",
      "120/500 [ 24%] ███████                        ETA: 216s | Acceptance Rate: 1.000\n",
      "Inferred cluster means:\n",
      "[12.604112   5.7007923 23.161629   0.4292891]\n",
      "125/500 [ 25%] ███████                        ETA: 212s | Acceptance Rate: 1.000\n",
      "Inferred cluster means:\n",
      "[12.643876    5.697243   23.17848     0.42746913]\n",
      "130/500 [ 26%] ███████                        ETA: 209s | Acceptance Rate: 1.000\n",
      "Inferred cluster means:\n",
      "[12.679738    5.6938267  23.19457     0.42566425]\n",
      "135/500 [ 27%] ████████                       ETA: 205s | Acceptance Rate: 1.000\n",
      "Inferred cluster means:\n",
      "[12.712571   5.690277  23.208862   0.4239976]\n",
      "140/500 [ 28%] ████████                       ETA: 203s | Acceptance Rate: 1.000\n",
      "Inferred cluster means:\n",
      "[12.742293   5.6868706 23.222023   0.4224728]\n",
      "145/500 [ 28%] ████████                       ETA: 201s | Acceptance Rate: 1.000\n",
      "Inferred cluster means:\n",
      "[12.770885    5.6836925  23.234896    0.42096156]\n",
      "150/500 [ 30%] █████████                      ETA: 198s | Acceptance Rate: 1.000\n",
      "Inferred cluster means:\n",
      "[12.796849   5.6805687 23.24636    0.4196059]\n",
      "155/500 [ 31%] █████████                      ETA: 196s | Acceptance Rate: 1.000\n",
      "Inferred cluster means:\n",
      "[12.821386    5.677478   23.257044    0.41822043]\n",
      "160/500 [ 32%] █████████                      ETA: 194s | Acceptance Rate: 1.000\n",
      "Inferred cluster means:\n",
      "[12.844516    5.67516    23.267641    0.41707683]\n",
      "165/500 [ 33%] █████████                      ETA: 193s | Acceptance Rate: 1.000\n",
      "Inferred cluster means:\n",
      "[12.865882    5.672936   23.27642     0.41593477]\n",
      "170/500 [ 34%] ██████████                     ETA: 191s | Acceptance Rate: 1.000\n",
      "Inferred cluster means:\n",
      "[12.885083   5.6705475 23.28439    0.4148579]\n",
      "175/500 [ 35%] ██████████                     ETA: 188s | Acceptance Rate: 1.000\n",
      "Inferred cluster means:\n",
      "[12.90358    5.668355  23.2919     0.4138883]\n",
      "180/500 [ 36%] ██████████                     ETA: 185s | Acceptance Rate: 1.000\n",
      "Inferred cluster means:\n",
      "[12.921143   5.6663837 23.298815   0.4129747]\n",
      "185/500 [ 37%] ███████████                    ETA: 182s | Acceptance Rate: 1.000\n",
      "Inferred cluster means:\n",
      "[12.9383135   5.6648498  23.30599     0.41214222]\n",
      "190/500 [ 38%] ███████████                    ETA: 179s | Acceptance Rate: 1.000\n",
      "Inferred cluster means:\n",
      "[12.954626    5.663248   23.312828    0.41133285]\n",
      "195/500 [ 39%] ███████████                    ETA: 175s | Acceptance Rate: 1.000\n",
      "Inferred cluster means:\n",
      "[12.96943    5.661633  23.31924    0.4105842]\n",
      "200/500 [ 40%] ████████████                   ETA: 173s | Acceptance Rate: 1.000\n",
      "Inferred cluster means:\n",
      "[12.984042    5.6600366  23.325865    0.40985924]\n",
      "205/500 [ 41%] ████████████                   ETA: 170s | Acceptance Rate: 1.000\n",
      "Inferred cluster means:\n",
      "[12.997747    5.6582074  23.331789    0.40912408]\n",
      "210/500 [ 42%] ████████████                   ETA: 167s | Acceptance Rate: 1.000\n",
      "Inferred cluster means:\n",
      "[13.010259    5.6567826  23.33717     0.40848446]\n",
      "215/500 [ 43%] ████████████                   ETA: 164s | Acceptance Rate: 1.000\n",
      "Inferred cluster means:\n",
      "[13.022671    5.65528    23.342777    0.40786672]\n",
      "220/500 [ 44%] █████████████                  ETA: 161s | Acceptance Rate: 1.000\n",
      "Inferred cluster means:\n",
      "[13.034375    5.6537795  23.348083    0.40723845]\n",
      "225/500 [ 45%] █████████████                  ETA: 158s | Acceptance Rate: 1.000\n",
      "Inferred cluster means:\n",
      "[13.045255   5.652152  23.353102   0.4066028]\n",
      "230/500 [ 46%] █████████████                  ETA: 155s | Acceptance Rate: 1.000\n",
      "Inferred cluster means:\n",
      "[13.056181    5.6507845  23.35837     0.40601724]\n",
      "235/500 [ 47%] ██████████████                 ETA: 152s | Acceptance Rate: 1.000\n",
      "Inferred cluster means:\n",
      "[13.066633   5.649568  23.362667   0.4054539]\n",
      "240/500 [ 48%] ██████████████                 ETA: 149s | Acceptance Rate: 1.000\n",
      "Inferred cluster means:\n",
      "[13.076888   5.648424  23.367035   0.4049493]\n",
      "245/500 [ 49%] ██████████████                 ETA: 146s | Acceptance Rate: 1.000\n",
      "Inferred cluster means:\n",
      "[13.086615    5.6473765  23.371414    0.40442374]\n",
      "250/500 [ 50%] ███████████████                ETA: 143s | Acceptance Rate: 1.000\n",
      "Inferred cluster means:\n",
      "[13.09557     5.646358   23.37507     0.40395883]\n",
      "255/500 [ 51%] ███████████████                ETA: 140s | Acceptance Rate: 1.000\n",
      "Inferred cluster means:\n",
      "[13.10461     5.64551    23.379288    0.40352204]\n",
      "260/500 [ 52%] ███████████████                ETA: 136s | Acceptance Rate: 1.000\n",
      "Inferred cluster means:\n",
      "[13.1134     5.644561  23.382952   0.4030963]\n",
      "265/500 [ 53%] ███████████████                ETA: 133s | Acceptance Rate: 1.000\n",
      "Inferred cluster means:\n",
      "[13.121975    5.6436715  23.386343    0.40266946]\n",
      "270/500 [ 54%] ████████████████               ETA: 130s | Acceptance Rate: 1.000\n",
      "Inferred cluster means:\n",
      "[13.129836   5.6427917 23.389803   0.4022453]\n",
      "275/500 [ 55%] ████████████████               ETA: 127s | Acceptance Rate: 1.000\n",
      "Inferred cluster means:\n",
      "[13.137889    5.6419134  23.393375    0.40180466]\n",
      "280/500 [ 56%] ████████████████               ETA: 124s | Acceptance Rate: 1.000\n",
      "Inferred cluster means:\n",
      "[13.145507   5.641053  23.396772   0.4014353]\n",
      "285/500 [ 56%] █████████████████              ETA: 121s | Acceptance Rate: 1.000\n",
      "Inferred cluster means:\n",
      "[13.15322    5.640349  23.400103   0.4010739]\n",
      "290/500 [ 57%] █████████████████              ETA: 119s | Acceptance Rate: 1.000\n",
      "Inferred cluster means:\n",
      "[13.160571    5.6395984  23.403742    0.40072924]\n",
      "295/500 [ 59%] █████████████████              ETA: 116s | Acceptance Rate: 1.000\n",
      "Inferred cluster means:\n",
      "[13.167776    5.638965   23.407131    0.40038618]\n",
      "300/500 [ 60%] ██████████████████             ETA: 113s | Acceptance Rate: 1.000\n",
      "Inferred cluster means:\n",
      "[13.175309   5.6384435 23.410313   0.4000354]\n",
      "305/500 [ 61%] ██████████████████             ETA: 110s | Acceptance Rate: 1.000\n",
      "Inferred cluster means:\n",
      "[13.181894   5.637892  23.413155   0.3997184]\n",
      "310/500 [ 62%] ██████████████████             ETA: 107s | Acceptance Rate: 1.000\n",
      "Inferred cluster means:\n",
      "[13.188037    5.6372995  23.415836    0.39940593]\n",
      "315/500 [ 63%] ██████████████████             ETA: 105s | Acceptance Rate: 1.000\n",
      "Inferred cluster means:\n",
      "[13.193448    5.636657   23.418047    0.39913526]\n",
      "320/500 [ 64%] ███████████████████            ETA: 102s | Acceptance Rate: 1.000\n",
      "Inferred cluster means:\n",
      "[13.1985235   5.635791   23.420485    0.39885694]\n",
      "325/500 [ 65%] ███████████████████            ETA: 99s | Acceptance Rate: 1.000 \n",
      "Inferred cluster means:\n",
      "[13.203636   5.635081  23.422962   0.3985744]\n",
      "330/500 [ 66%] ███████████████████            ETA: 96s | Acceptance Rate: 1.000\n",
      "Inferred cluster means:\n",
      "[13.209036    5.634516   23.425476    0.39831895]\n",
      "335/500 [ 67%] ████████████████████           ETA: 93s | Acceptance Rate: 1.000\n",
      "Inferred cluster means:\n",
      "[13.214117    5.6340003  23.427649    0.39808655]\n",
      "340/500 [ 68%] ████████████████████           ETA: 90s | Acceptance Rate: 1.000\n",
      "Inferred cluster means:\n",
      "[13.2189     5.6334863 23.42962    0.3978081]\n",
      "345/500 [ 69%] ████████████████████           ETA: 88s | Acceptance Rate: 1.000\n",
      "Inferred cluster means:\n",
      "[13.223505    5.6329494  23.431517    0.39755976]\n",
      "350/500 [ 70%] █████████████████████          ETA: 85s | Acceptance Rate: 1.000\n",
      "Inferred cluster means:\n",
      "[13.227868    5.632295   23.43373     0.39732036]\n",
      "355/500 [ 71%] █████████████████████          ETA: 82s | Acceptance Rate: 1.000\n",
      "Inferred cluster means:\n",
      "[13.232416   5.6317353 23.435831   0.3970959]\n",
      "360/500 [ 72%] █████████████████████          ETA: 79s | Acceptance Rate: 1.000\n",
      "Inferred cluster means:\n",
      "[13.236638    5.631256   23.437717    0.39687362]\n",
      "365/500 [ 73%] █████████████████████          ETA: 76s | Acceptance Rate: 1.000\n",
      "Inferred cluster means:\n",
      "[13.2407      5.6307306  23.439611    0.39666966]\n",
      "370/500 [ 74%] ██████████████████████         ETA: 73s | Acceptance Rate: 1.000\n",
      "Inferred cluster means:\n",
      "[13.24457     5.630332   23.441133    0.39647382]\n",
      "375/500 [ 75%] ██████████████████████         ETA: 70s | Acceptance Rate: 1.000\n",
      "Inferred cluster means:\n",
      "[13.248621    5.629931   23.442589    0.39626944]\n",
      "380/500 [ 76%] ██████████████████████         ETA: 68s | Acceptance Rate: 1.000\n",
      "Inferred cluster means:\n",
      "[13.252472   5.629466  23.444725   0.3960624]\n",
      "385/500 [ 77%] ███████████████████████        ETA: 65s | Acceptance Rate: 1.000\n",
      "Inferred cluster means:\n",
      "[13.256196    5.6288953  23.446564    0.39584646]\n",
      "390/500 [ 78%] ███████████████████████        ETA: 62s | Acceptance Rate: 1.000\n",
      "Inferred cluster means:\n",
      "[13.2596035  5.6283584 23.448153   0.3956566]\n",
      "395/500 [ 79%] ███████████████████████        ETA: 59s | Acceptance Rate: 1.000\n",
      "Inferred cluster means:\n",
      "[13.262724    5.627717   23.44956     0.39545223]\n",
      "400/500 [ 80%] ████████████████████████       ETA: 56s | Acceptance Rate: 1.000\n",
      "Inferred cluster means:\n",
      "[13.265693    5.627196   23.450956    0.39523175]\n",
      "405/500 [ 81%] ████████████████████████       ETA: 53s | Acceptance Rate: 1.000\n",
      "Inferred cluster means:\n",
      "[13.268412   5.6267047 23.452202   0.3950385]\n",
      "410/500 [ 82%] ████████████████████████       ETA: 50s | Acceptance Rate: 1.000\n",
      "Inferred cluster means:\n",
      "[13.271516    5.6262965  23.453611    0.39485374]\n",
      "415/500 [ 83%] ████████████████████████       ETA: 47s | Acceptance Rate: 1.000\n",
      "Inferred cluster means:\n",
      "[13.274514   5.625878  23.454937   0.3946871]\n",
      "420/500 [ 84%] █████████████████████████      ETA: 45s | Acceptance Rate: 1.000\n",
      "Inferred cluster means:\n",
      "[13.277482    5.625488   23.456282    0.39451376]\n",
      "425/500 [ 85%] █████████████████████████      ETA: 42s | Acceptance Rate: 1.000\n",
      "Inferred cluster means:\n",
      "[13.280219   5.625067  23.457363   0.3943352]\n",
      "430/500 [ 86%] █████████████████████████      ETA: 39s | Acceptance Rate: 1.000\n",
      "Inferred cluster means:\n",
      "[13.28286     5.6247244  23.458347    0.39420086]\n",
      "435/500 [ 87%] ██████████████████████████     ETA: 36s | Acceptance Rate: 1.000\n",
      "Inferred cluster means:\n",
      "[13.285683    5.624428   23.459438    0.39405203]\n",
      "440/500 [ 88%] ██████████████████████████     ETA: 33s | Acceptance Rate: 1.000\n",
      "Inferred cluster means:\n",
      "[13.289001    5.624071   23.46091     0.39388517]\n",
      "445/500 [ 89%] ██████████████████████████     ETA: 31s | Acceptance Rate: 1.000\n",
      "Inferred cluster means:\n",
      "[13.291727    5.6237516  23.462305    0.39373896]\n",
      "450/500 [ 90%] ███████████████████████████    ETA: 28s | Acceptance Rate: 1.000\n",
      "Inferred cluster means:\n",
      "[13.294619    5.6233225  23.46353     0.39358008]\n",
      "455/500 [ 91%] ███████████████████████████    ETA: 25s | Acceptance Rate: 1.000\n",
      "Inferred cluster means:\n",
      "[13.297171    5.622897   23.464615    0.39343455]\n",
      "460/500 [ 92%] ███████████████████████████    ETA: 22s | Acceptance Rate: 1.000\n",
      "Inferred cluster means:\n",
      "[13.29949    5.622525  23.465649   0.3932909]\n",
      "465/500 [ 93%] ███████████████████████████    ETA: 19s | Acceptance Rate: 1.000\n",
      "Inferred cluster means:\n",
      "[13.301674    5.622141   23.46676     0.39315516]\n",
      "470/500 [ 94%] ████████████████████████████   ETA: 17s | Acceptance Rate: 1.000\n",
      "Inferred cluster means:\n",
      "[13.3037      5.6217713  23.467731    0.39301115]\n",
      "475/500 [ 95%] ████████████████████████████   ETA: 14s | Acceptance Rate: 1.000\n",
      "Inferred cluster means:\n",
      "[13.306106    5.6215105  23.468641    0.39288804]\n",
      "480/500 [ 96%] ████████████████████████████   ETA: 11s | Acceptance Rate: 1.000\n",
      "Inferred cluster means:\n",
      "[13.308735    5.6212206  23.469854    0.39276987]\n",
      "485/500 [ 97%] █████████████████████████████  ETA: 8s | Acceptance Rate: 1.000 \n",
      "Inferred cluster means:\n",
      "[13.311261    5.620955   23.471113    0.39265248]\n",
      "490/500 [ 98%] █████████████████████████████  ETA: 5s | Acceptance Rate: 1.000\n",
      "Inferred cluster means:\n",
      "[13.31388     5.6207814  23.472408    0.39251962]\n",
      "495/500 [ 99%] █████████████████████████████  ETA: 2s | Acceptance Rate: 1.000\n",
      "Inferred cluster means:\n",
      "[13.316187    5.620546   23.473282    0.39239353]\n",
      "500/500 [100%] ██████████████████████████████ Elapsed: 284s | Acceptance Rate: 1.000\n",
      "\n",
      "Inferred cluster means:\n",
      "[13.31788    5.6202097 23.474123   0.3922715]\n"
     ]
    }
   ],
   "source": [
    "pi = Dirichlet(tf.ones(K))\n",
    "lam = Gamma(1.0, 0.1, sample_shape=K)\n",
    "x = ParamMixture(pi, {'rate': lam}, Poisson, sample_shape=N)\n",
    "z = x.cat\n",
    "\n",
    "qpi_Gibbs = Empirical(tf.get_variable(\n",
    "                     \"qpi_Gibbs\", [T, K],\n",
    "                     initializer=tf.constant_initializer(1.0 / K)))\n",
    "qlam_Gibbs = Empirical(tf.get_variable(\n",
    "                      \"qlam_Gibbs\", [T, K],\n",
    "                      initializer=tf.zeros_initializer()))\n",
    "qz_Gibbs = Empirical(tf.get_variable(\n",
    "                    \"qz_Gibbs\", [T, N],\n",
    "                    initializer=tf.zeros_initializer(), dtype=tf.int32))\n",
    "\n",
    "inference = ed.Gibbs({pi: qpi_Gibbs, lam: qlam_Gibbs,\n",
    "                      z: qz_Gibbs}, data={x: delay})\n",
    "inference.initialize()\n",
    "\n",
    "sess = ed.get_session()\n",
    "tf.global_variables_initializer().run()\n",
    "\n",
    "t_ph = tf.placeholder(tf.int32, [])\n",
    "running_cluster_means = tf.reduce_mean(qlam_Gibbs.params[:t_ph], 0)\n",
    "\n",
    "for _ in range(inference.n_iter):\n",
    "    info_dict = inference.update()\n",
    "    inference.print_progress(info_dict)\n",
    "    t = info_dict['t']\n",
    "    if t % inference.n_print == 0:\n",
    "        print(\"\\nInferred cluster means:\")\n",
    "        print(sess.run(running_cluster_means, {t_ph: t - 1}))"
   ]
  },
  {
   "cell_type": "markdown",
   "metadata": {},
   "source": [
    "Since we don't have to marginalize out $z's$\n",
    "anymore, we can use the posterior distributions\n",
    "of $z's$ to predict which cluster each element\n",
    "belongs to. In contrast to the EM algorithm, the\n",
    "clusters are no longer clear-cut, and each data\n",
    "point has certain probabilities of belonging\n",
    "to two adjacent clusters."
   ]
  },
  {
   "cell_type": "code",
   "execution_count": 23,
   "metadata": {},
   "outputs": [
    {
     "data": {
      "image/png": "[encoded data removed]",
      "text/plain": [
       "<matplotlib.figure.Figure at 0x1c24aadf60>"
      ]
     },
     "metadata": {},
     "output_type": "display_data"
    }
   ],
   "source": [
    "y = np.zeros(N)\n",
    "for i in range(31):\n",
    "    indices = [j for j, x in enumerate(delay) if x == i]\n",
    "    values = [j for j in range(len(indices))]\n",
    "    y[indices] = values\n",
    "clusters = qz_Gibbs.sample().eval()\n",
    "plt.scatter(delay, y, c=clusters, cmap=cm.bwr)\n",
    "plt.title(\"Predicted Cluster Assignments\")\n",
    "plt.show()"
   ]
  },
  {
   "cell_type": "markdown",
   "metadata": {},
   "source": [
    "$\\LARGE \\mathbf {Criticism\\; Again}$"
   ]
  },
  {
   "cell_type": "markdown",
   "metadata": {},
   "source": [
    "We can use Edward to calculate the log-likelihood."
   ]
  },
  {
   "cell_type": "code",
   "execution_count": 24,
   "metadata": {},
   "outputs": [
    {
     "data": {
      "text/plain": [
       "-11.947207"
      ]
     },
     "execution_count": 24,
     "metadata": {},
     "output_type": "execute_result"
    }
   ],
   "source": [
    "x_post = ed.copy(x, {pi: qpi_Gibbs, lam: qlam_Gibbs, z: qz_Gibbs})\n",
    "ed.evaluate('log_likelihood', data={x_post: delay})"
   ]
  },
  {
   "cell_type": "markdown",
   "metadata": {},
   "source": [
    "Since AIC is the same, we can again calculate\n",
    "DIC, WAIC and lppd. Compared to what we get from variational\n",
    "inference, we see that Gibbs sampling provides better inference."
   ]
  },
  {
   "cell_type": "code",
   "execution_count": 25,
   "metadata": {},
   "outputs": [
    {
     "name": "stdout",
     "output_type": "stream",
     "text": [
      "DIC:  3118546.418589663\n",
      "WAIC:  3114516.094830907\n",
      "lppd: -1552725.3590180047\n"
     ]
    }
   ],
   "source": [
    "DIC_Gibbs, WAIC_Gibbs, lppd_Gibbs, post_prob_Gibbs = info_crit(\n",
    "    qpi_Gibbs, qlam_Gibbs, K, delay)\n",
    "print('DIC: ', DIC_Gibbs)\n",
    "print('WAIC: ', WAIC_Gibbs)\n",
    "print('lppd:', lppd_Gibbs)"
   ]
  },
  {
   "cell_type": "markdown",
   "metadata": {},
   "source": [
    "We can again plot the posterior probabilities.\n",
    "It's still not exactly like\n",
    "the histogram of the dataset, but it looks\n",
    "better than the plot from variational inference."
   ]
  },
  {
   "cell_type": "code",
   "execution_count": 26,
   "metadata": {},
   "outputs": [
    {
     "data": {
      "image/png": "[encoded data removed]",
      "text/plain": [
       "<matplotlib.figure.Figure at 0x1c258c68d0>"
      ]
     },
     "metadata": {},
     "output_type": "display_data"
    }
   ],
   "source": [
    "plt.scatter([x for x in range(31)],\n",
    "            post_prob_Gibbs)\n",
    "plt.title('Post Probabilities from Gibbs Sampling')\n",
    "plt.show()"
   ]
  },
  {
   "cell_type": "markdown",
   "metadata": {},
   "source": [
    "And we can do posterior predictive checks directly\n",
    "with Edward. And we see that the new datasets\n",
    "generated from running Gibbs are quite\n",
    "similar to our original dataset."
   ]
  },
  {
   "cell_type": "code",
   "execution_count": 27,
   "metadata": {},
   "outputs": [
    {
     "data": {
      "image/png": "[encoded data removed]",
      "text/plain": [
       "<matplotlib.figure.Figure at 0x1d37bb1e80>"
      ]
     },
     "metadata": {},
     "output_type": "display_data"
    }
   ],
   "source": [
    "x_post = ed.copy(x, {pi: qpi_Gibbs,\n",
    "                     lam: qlam_Gibbs, z: qz_Gibbs})\n",
    "y_rep, y = ed.ppc(lambda xs,\n",
    "                  zs: tf.contrib.distributions.percentile(xs[x_post], q=75),\n",
    "                  data={x_post: delay})\n",
    "ed.ppc_stat_hist_plot(y[0], y_rep,\n",
    "                      stat_name=r'$T \\equiv$75th percentile', bins=31)\n",
    "plt.show()"
   ]
  },
  {
   "cell_type": "markdown",
   "metadata": {},
   "source": [
    "$\\LARGE \\mathbf {Changing\\; K}$"
   ]
  },
  {
   "cell_type": "markdown",
   "metadata": {},
   "source": [
    "We can check if the model is better if\n",
    "we have one more or one less cluster. We\n",
    "start with having $5$ clusters instead\n",
    "of $4$. We run Gibbs sampling and do some ppc."
   ]
  },
  {
   "cell_type": "code",
   "execution_count": 28,
   "metadata": {},
   "outputs": [
    {
     "name": "stdout",
     "output_type": "stream",
     "text": [
      "mixing proportion:  [0.29354784 0.2140184  0.16673075 0.14336959 0.18233357]\n",
      "cluster mean:  [ 5.891311   23.655807    0.16274902  0.9996776  13.860607  ]\n"
     ]
    },
    {
     "data": {
      "image/png": "[encoded data removed]",
      "text/plain": [
       "<matplotlib.figure.Figure at 0x1c241a66d8>"
      ]
     },
     "metadata": {},
     "output_type": "display_data"
    }
   ],
   "source": [
    "K = 5\n",
    "pi = Dirichlet(tf.ones(K))\n",
    "lam = Gamma(1.0, 0.1, sample_shape=K)\n",
    "x = ParamMixture(pi, {'rate': lam}, Poisson, sample_shape=N)\n",
    "z = x.cat\n",
    "\n",
    "qpi_5 = Empirical(tf.get_variable(\n",
    "                 \"qpi_5\", [T, K],\n",
    "                 initializer=tf.constant_initializer(1.0 / K)))\n",
    "qlam_5 = Empirical(tf.get_variable(\n",
    "                  \"qlam_5\", [T, K],\n",
    "                  initializer=tf.zeros_initializer()))\n",
    "qz_5 = Empirical(tf.get_variable(\n",
    "                \"qz_5\", [T, N],\n",
    "                initializer=tf.zeros_initializer(), dtype=tf.int32))\n",
    "\n",
    "inference = ed.Gibbs({pi: qpi_5, lam: qlam_5,\n",
    "                      z: qz_5}, data={x: delay})\n",
    "inference.initialize()\n",
    "\n",
    "sess = ed.get_session()\n",
    "tf.global_variables_initializer().run()\n",
    "\n",
    "for _ in range(inference.n_iter):\n",
    "    inference.update()\n",
    "\n",
    "print('mixing proportion: ', qpi_5.mean().eval())\n",
    "print('cluster mean: ', qlam_5.mean().eval())\n",
    "\n",
    "x_post = ed.copy(x, {pi: qpi_5, lam: qlam_5, z: qz_5})\n",
    "y_rep, y = ed.ppc(lambda xs,\n",
    "                  zs: tf.contrib.distributions.percentile(xs[x_post], q=75),\n",
    "                  data={x_post: delay})\n",
    "ed.ppc_stat_hist_plot(y[0], y_rep,\n",
    "                      stat_name=r'$T \\equiv$75th percentile', bins=31)\n",
    "plt.show()"
   ]
  },
  {
   "cell_type": "code",
   "execution_count": 29,
   "metadata": {},
   "outputs": [
    {
     "name": "stdout",
     "output_type": "stream",
     "text": [
      "DIC:  3102516.2300808053\n",
      "WAIC:  3102494.9033891666\n",
      "lppd: -1549982.0691184723\n"
     ]
    }
   ],
   "source": [
    "DIC_5, WAIC_5, lppd_5, post_prob_5 = info_crit(qpi_5, qlam_5, K, delay)\n",
    "print('DIC: ', DIC_5)\n",
    "print('WAIC: ', WAIC_5)\n",
    "print('lppd:', lppd_5)"
   ]
  },
  {
   "cell_type": "markdown",
   "metadata": {},
   "source": [
    "We see that two of the cluster means now are very close\n",
    "and the rest are pretty much the same as before.\n",
    "The information criteria are also pretty close.\n",
    "So it's probably not a better model. We can also\n",
    "do the same for $3$ clusters. But we again see\n",
    "that the statistics are quite similar, so\n",
    "the model is not much better."
   ]
  },
  {
   "cell_type": "code",
   "execution_count": 30,
   "metadata": {},
   "outputs": [
    {
     "name": "stdout",
     "output_type": "stream",
     "text": [
      "mixing proportion:  [0.33506724 0.30503368 0.35989895]\n",
      "cluster mean:  [20.682337    0.48234338  6.64784   ]\n"
     ]
    },
    {
     "data": {
      "image/png": "[encoded data removed]",
      "text/plain": [
       "<matplotlib.figure.Figure at 0x1c241a6c18>"
      ]
     },
     "metadata": {},
     "output_type": "display_data"
    }
   ],
   "source": [
    "K = 3\n",
    "pi = Dirichlet(tf.ones(K))\n",
    "lam = Gamma(1.0, 0.1, sample_shape=K)\n",
    "x = ParamMixture(pi, {'rate': lam}, Poisson, sample_shape=N)\n",
    "z = x.cat\n",
    "\n",
    "qpi_3 = Empirical(tf.get_variable(\n",
    "                 \"qpi_3\", [T, K],\n",
    "                 initializer=tf.constant_initializer(1.0 / K)))\n",
    "qlam_3 = Empirical(tf.get_variable(\n",
    "                  \"qlam_3\", [T, K],\n",
    "                  initializer=tf.zeros_initializer()))\n",
    "qz_3 = Empirical(tf.get_variable(\n",
    "                \"qz_3\", [T, N],\n",
    "                initializer=tf.zeros_initializer(), dtype=tf.int32))\n",
    "\n",
    "inference = ed.Gibbs({pi: qpi_3, lam: qlam_3, z: qz_3}, data={x: delay})\n",
    "inference.initialize()\n",
    "\n",
    "sess = ed.get_session()\n",
    "tf.global_variables_initializer().run()\n",
    "\n",
    "for _ in range(inference.n_iter):\n",
    "    inference.update()\n",
    "\n",
    "print('mixing proportion: ', qpi_3.mean().eval())\n",
    "print('cluster mean: ', qlam_3.mean().eval())\n",
    "\n",
    "x_post = ed.copy(x, {pi: qpi_3, lam: qlam_3, z: qz_3})\n",
    "y_rep, y = ed.ppc(lambda xs,\n",
    "                  zs: tf.contrib.distributions.percentile(xs[x_post], q=75),\n",
    "                  data={x_post: delay})\n",
    "ed.ppc_stat_hist_plot(y[0], y_rep,\n",
    "                      stat_name=r'$T \\equiv$75th percentile', bins=31)\n",
    "plt.show()"
   ]
  },
  {
   "cell_type": "code",
   "execution_count": 31,
   "metadata": {},
   "outputs": [
    {
     "name": "stdout",
     "output_type": "stream",
     "text": [
      "DIC:  3151782.616926396\n",
      "WAIC:  3153409.1076673213\n",
      "lppd: -1572004.0880480474\n"
     ]
    }
   ],
   "source": [
    "DIC_3, WAIC_3, lppd_3, post_prob_3 = info_crit(qpi_3, qlam_3, K, delay)\n",
    "print('DIC: ', DIC_3)\n",
    "print('WAIC: ', WAIC_3)\n",
    "print('lppd:', lppd_3)"
   ]
  },
  {
   "cell_type": "markdown",
   "metadata": {},
   "source": [
    "$\\LARGE \\mathbf {Conclusion}$"
   ]
  },
  {
   "cell_type": "markdown",
   "metadata": {},
   "source": [
    "In this project, we aim to make inference\n",
    "about how far in advance people usually make\n",
    "appointments using a mixtures of Poissons\n",
    "model. We can use EM algorithm to find the\n",
    "maximum likelihood estimators, but doing Bayesian\n",
    "analysis is harder. Because there is too much\n",
    "variance in BBVI, it's hard to get good variational\n",
    "posteriors, and one can try to include control\n",
    "variates in the future to make better variational\n",
    "inference. Fortunately, with certain choices of\n",
    "priors, we can use Gibbs sampling to get posteriors\n",
    "that yield good posterior predictive checks. It\n",
    "seems that we have a reasonable model for the\n",
    "data, but it's also interesting to explore other models."
   ]
  }
 ],
 "metadata": {
  "kernelspec": {
   "display_name": "Python 3",
   "language": "python",
   "name": "python3"
  },
  "language_info": {
   "codemirror_mode": {
    "name": "ipython",
    "version": 3
   },
   "file_extension": ".py",
   "mimetype": "text/x-python",
   "name": "python",
   "nbconvert_exporter": "python",
   "pygments_lexer": "ipython3",
   "version": "3.6.4"
  }
 },
 "nbformat": 4,
 "nbformat_minor": 2
}
